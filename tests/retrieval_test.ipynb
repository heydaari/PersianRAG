{
 "cells": [
  {
   "metadata": {
    "ExecuteTime": {
     "end_time": "2025-04-12T18:31:43.817634Z",
     "start_time": "2025-04-12T18:31:43.810056Z"
    }
   },
   "cell_type": "code",
   "source": [
    "import os\n",
    "os.listdir()"
   ],
   "id": "df4688611c655e46",
   "outputs": [
    {
     "data": {
      "text/plain": [
       "['docs_test', 'retrieval_test.ipynb']"
      ]
     },
     "execution_count": 8,
     "metadata": {},
     "output_type": "execute_result"
    }
   ],
   "execution_count": 8
  },
  {
   "cell_type": "code",
   "id": "initial_id",
   "metadata": {
    "collapsed": true,
    "ExecuteTime": {
     "end_time": "2025-04-12T18:30:44.613576Z",
     "start_time": "2025-04-12T18:30:43.987394Z"
    }
   },
   "source": [
    "from src.retrieval import Retrieval\n",
    "\n",
    "RETRIEVAL = Retrieval(embedding_model_name=r\"F:\\Models\\huggingface\\hub\\models--sentence-transformers--all-mpnet-base-v2\\snapshots\\9a3225965996d404b775526de6dbfe85d3368642\",\n",
    "                      documents_address=\"docs_test\",\n",
    "                      vector_db_address='saved_vectors')"
   ],
   "outputs": [
    {
     "name": "stdout",
     "output_type": "stream",
     "text": [
      ">> HINT : embedding documents started ...\n"
     ]
    },
    {
     "ename": "FileNotFoundError",
     "evalue": "tests\\docs_test does not exist",
     "output_type": "error",
     "traceback": [
      "\u001B[1;31m---------------------------------------------------------------------------\u001B[0m",
      "\u001B[1;31mFileNotFoundError\u001B[0m                         Traceback (most recent call last)",
      "Cell \u001B[1;32mIn[6], line 3\u001B[0m\n\u001B[0;32m      1\u001B[0m \u001B[38;5;28;01mfrom\u001B[39;00m \u001B[38;5;21;01msrc\u001B[39;00m\u001B[38;5;21;01m.\u001B[39;00m\u001B[38;5;21;01mretrieval\u001B[39;00m \u001B[38;5;28;01mimport\u001B[39;00m Retrieval\n\u001B[1;32m----> 3\u001B[0m RETRIEVAL \u001B[38;5;241m=\u001B[39m \u001B[43mRetrieval\u001B[49m\u001B[43m(\u001B[49m\u001B[43membedding_model_name\u001B[49m\u001B[38;5;241;43m=\u001B[39;49m\u001B[38;5;124;43mr\u001B[39;49m\u001B[38;5;124;43m\"\u001B[39;49m\u001B[38;5;124;43mF:\u001B[39;49m\u001B[38;5;124;43m\\\u001B[39;49m\u001B[38;5;124;43mModels\u001B[39;49m\u001B[38;5;124;43m\\\u001B[39;49m\u001B[38;5;124;43mhuggingface\u001B[39;49m\u001B[38;5;124;43m\\\u001B[39;49m\u001B[38;5;124;43mhub\u001B[39;49m\u001B[38;5;124;43m\\\u001B[39;49m\u001B[38;5;124;43mmodels--sentence-transformers--all-mpnet-base-v2\u001B[39;49m\u001B[38;5;124;43m\\\u001B[39;49m\u001B[38;5;124;43msnapshots\u001B[39;49m\u001B[38;5;124;43m\\\u001B[39;49m\u001B[38;5;124;43m9a3225965996d404b775526de6dbfe85d3368642\u001B[39;49m\u001B[38;5;124;43m\"\u001B[39;49m\u001B[43m,\u001B[49m\n\u001B[0;32m      4\u001B[0m \u001B[43m                      \u001B[49m\u001B[43mdocuments_address\u001B[49m\u001B[38;5;241;43m=\u001B[39;49m\u001B[38;5;124;43mr\u001B[39;49m\u001B[38;5;124;43m'\u001B[39;49m\u001B[38;5;124;43mtests\u001B[39;49m\u001B[38;5;124;43m\\\u001B[39;49m\u001B[38;5;124;43mdocs_test\u001B[39;49m\u001B[38;5;124;43m'\u001B[39;49m\u001B[43m,\u001B[49m\n\u001B[0;32m      5\u001B[0m \u001B[43m                      \u001B[49m\u001B[43mvector_db_address\u001B[49m\u001B[38;5;241;43m=\u001B[39;49m\u001B[38;5;124;43m'\u001B[39;49m\u001B[38;5;124;43msaved_vectors\u001B[39;49m\u001B[38;5;124;43m'\u001B[39;49m\u001B[43m)\u001B[49m\n",
      "File \u001B[1;32mF:\\Projects\\PersianRAG\\src\\retrieval.py:62\u001B[0m, in \u001B[0;36mRetrieval.__init__\u001B[1;34m(self, embedding_model_name, documents_address, vector_db_address)\u001B[0m\n\u001B[0;32m     53\u001B[0m index \u001B[38;5;241m=\u001B[39m faiss\u001B[38;5;241m.\u001B[39mIndexFlatL2(\u001B[38;5;28mlen\u001B[39m(\u001B[38;5;28mself\u001B[39m\u001B[38;5;241m.\u001B[39membeddings\u001B[38;5;241m.\u001B[39membed_query(\u001B[38;5;124m\"\u001B[39m\u001B[38;5;124mhello world\u001B[39m\u001B[38;5;124m\"\u001B[39m)))\n\u001B[0;32m     55\u001B[0m \u001B[38;5;28mself\u001B[39m\u001B[38;5;241m.\u001B[39mdb \u001B[38;5;241m=\u001B[39m LangchainFAISS(\n\u001B[0;32m     56\u001B[0m     embedding_function\u001B[38;5;241m=\u001B[39m\u001B[38;5;28mself\u001B[39m\u001B[38;5;241m.\u001B[39membeddings,\n\u001B[0;32m     57\u001B[0m     index\u001B[38;5;241m=\u001B[39mindex,\n\u001B[0;32m     58\u001B[0m     docstore\u001B[38;5;241m=\u001B[39mInMemoryDocstore(),\n\u001B[0;32m     59\u001B[0m     index_to_docstore_id\u001B[38;5;241m=\u001B[39m{},\n\u001B[0;32m     60\u001B[0m )\n\u001B[1;32m---> 62\u001B[0m documents \u001B[38;5;241m=\u001B[39m \u001B[38;5;28;43mself\u001B[39;49m\u001B[38;5;241;43m.\u001B[39;49m\u001B[43mget_docs\u001B[49m\u001B[43m(\u001B[49m\u001B[43mpath\u001B[49m\u001B[38;5;241;43m=\u001B[39;49m\u001B[38;5;28;43mself\u001B[39;49m\u001B[38;5;241;43m.\u001B[39;49m\u001B[43mdocuments_address\u001B[49m\u001B[43m)\u001B[49m\n\u001B[0;32m     64\u001B[0m uuids \u001B[38;5;241m=\u001B[39m [\u001B[38;5;28mstr\u001B[39m(uuid4()) \u001B[38;5;28;01mfor\u001B[39;00m _ \u001B[38;5;129;01min\u001B[39;00m \u001B[38;5;28mrange\u001B[39m(\u001B[38;5;28mlen\u001B[39m(documents))]\n\u001B[0;32m     66\u001B[0m \u001B[38;5;28mself\u001B[39m\u001B[38;5;241m.\u001B[39mdb\u001B[38;5;241m.\u001B[39madd_documents(documents\u001B[38;5;241m=\u001B[39mdocuments, uuids\u001B[38;5;241m=\u001B[39muuids)\n",
      "File \u001B[1;32mF:\\Projects\\PersianRAG\\src\\retrieval.py:75\u001B[0m, in \u001B[0;36mRetrieval.get_docs\u001B[1;34m(self, path)\u001B[0m\n\u001B[0;32m     72\u001B[0m     \u001B[38;5;28;01mreturn\u001B[39;00m get_directory_documents(path)\n\u001B[0;32m     74\u001B[0m \u001B[38;5;28;01melse\u001B[39;00m:\n\u001B[1;32m---> 75\u001B[0m     \u001B[38;5;28;01mraise\u001B[39;00m \u001B[38;5;167;01mFileNotFoundError\u001B[39;00m(\u001B[38;5;124mf\u001B[39m\u001B[38;5;124m'\u001B[39m\u001B[38;5;132;01m{\u001B[39;00mpath\u001B[38;5;132;01m}\u001B[39;00m\u001B[38;5;124m does not exist\u001B[39m\u001B[38;5;124m'\u001B[39m)\n",
      "\u001B[1;31mFileNotFoundError\u001B[0m: tests\\docs_test does not exist"
     ]
    }
   ],
   "execution_count": 6
  },
  {
   "metadata": {},
   "cell_type": "code",
   "outputs": [],
   "execution_count": null,
   "source": "",
   "id": "dd80aef7d0442c88"
  }
 ],
 "metadata": {
  "kernelspec": {
   "display_name": "Python 3",
   "language": "python",
   "name": "python3"
  },
  "language_info": {
   "codemirror_mode": {
    "name": "ipython",
    "version": 2
   },
   "file_extension": ".py",
   "mimetype": "text/x-python",
   "name": "python",
   "nbconvert_exporter": "python",
   "pygments_lexer": "ipython2",
   "version": "2.7.6"
  }
 },
 "nbformat": 4,
 "nbformat_minor": 5
}
