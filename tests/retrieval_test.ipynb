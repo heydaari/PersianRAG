{
 "cells": [
  {
   "metadata": {
    "ExecuteTime": {
     "end_time": "2025-04-12T18:36:59.352944Z",
     "start_time": "2025-04-12T18:36:59.340820Z"
    }
   },
   "cell_type": "code",
   "source": [
    "import os\n",
    "os.listdir()"
   ],
   "id": "df4688611c655e46",
   "outputs": [
    {
     "data": {
      "text/plain": [
       "['docs_test', 'retrieval_test.ipynb']"
      ]
     },
     "execution_count": 1,
     "metadata": {},
     "output_type": "execute_result"
    }
   ],
   "execution_count": 1
  },
  {
   "cell_type": "code",
   "id": "initial_id",
   "metadata": {
    "collapsed": true,
    "ExecuteTime": {
     "end_time": "2025-04-12T18:37:20.682862Z",
     "start_time": "2025-04-12T18:37:06.097094Z"
    }
   },
   "source": [
    "from src.retrieval import Retrieval\n",
    "\n",
    "RETRIEVAL = Retrieval(embedding_model_name=\"sentence-transformers/all-mpnet-base-v2\",\n",
    "                      documents_address=\"docs_test\",\n",
    "                      vector_db_address='saved_vectors')"
   ],
   "outputs": [
    {
     "name": "stderr",
     "output_type": "stream",
     "text": [
      "C:\\Users\\Laptopkaran\\AppData\\Local\\Programs\\Python\\Python312\\Lib\\site-packages\\sentence_transformers\\cross_encoder\\CrossEncoder.py:11: TqdmExperimentalWarning: Using `tqdm.autonotebook.tqdm` in notebook mode. Use `tqdm.tqdm` instead to force console mode (e.g. in jupyter console)\n",
      "  from tqdm.autonotebook import tqdm, trange\n"
     ]
    },
    {
     "name": "stdout",
     "output_type": "stream",
     "text": [
      "WARNING:tensorflow:From C:\\Users\\Laptopkaran\\AppData\\Local\\Programs\\Python\\Python312\\Lib\\site-packages\\tf_keras\\src\\losses.py:2976: The name tf.losses.sparse_softmax_cross_entropy is deprecated. Please use tf.compat.v1.losses.sparse_softmax_cross_entropy instead.\n",
      "\n",
      ">> HINT : embedding documents started ...\n"
     ]
    }
   ],
   "execution_count": 2
  },
  {
   "metadata": {
    "ExecuteTime": {
     "end_time": "2025-04-12T18:38:51.517995Z",
     "start_time": "2025-04-12T18:38:51.421391Z"
    }
   },
   "cell_type": "code",
   "source": "print(RETRIEVAL('max verstappen', 2))",
   "id": "dd80aef7d0442c88",
   "outputs": [
    {
     "name": "stdout",
     "output_type": "stream",
     "text": [
      "['Formula one is defined by lewis hamilton', 'Donald trump is the president of united states']\n"
     ]
    }
   ],
   "execution_count": 4
  }
 ],
 "metadata": {
  "kernelspec": {
   "display_name": "Python 3",
   "language": "python",
   "name": "python3"
  },
  "language_info": {
   "codemirror_mode": {
    "name": "ipython",
    "version": 2
   },
   "file_extension": ".py",
   "mimetype": "text/x-python",
   "name": "python",
   "nbconvert_exporter": "python",
   "pygments_lexer": "ipython2",
   "version": "2.7.6"
  }
 },
 "nbformat": 4,
 "nbformat_minor": 5
}
